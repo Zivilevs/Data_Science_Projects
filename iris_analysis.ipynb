{
  "nbformat": 4,
  "nbformat_minor": 0,
  "metadata": {
    "colab": {
      "name": "iris-analysis.ipynb",
      "provenance": [],
      "authorship_tag": "ABX9TyMkyE6WWexiy92klMq9ad4u",
      "include_colab_link": true
    },
    "kernelspec": {
      "name": "python3",
      "display_name": "Python 3"
    }
  },
  "cells": [
    {
      "cell_type": "markdown",
      "metadata": {
        "id": "view-in-github",
        "colab_type": "text"
      },
      "source": [
        "<a href=\"https://colab.research.google.com/github/Zivilevs/Data_Science_Projects/blob/main/iris_analysis.ipynb\" target=\"_parent\"><img src=\"https://colab.research.google.com/assets/colab-badge.svg\" alt=\"Open In Colab\"/></a>"
      ]
    },
    {
      "cell_type": "markdown",
      "metadata": {
        "id": "6FudhdOEU9pG"
      },
      "source": [
        "# **Iris Dataset** \n",
        "**Analysis and classification**\n",
        "\n",
        "The famous iris database, first used by Sir R. A. Fisher, is perhaps the best known dataset to be found in pattern recognition literature. There are 150 iris plants, each with 4 numeric attributes: sepal length in cm, sepal width in cm, petal length in cm, and petal width in cm. The task is to predict each plant as an iris-setosa, an iris-versicolor, or an iris-virginica based on these attributes.\n",
        "\n",
        "\n",
        "\n"
      ]
    },
    {
      "cell_type": "markdown",
      "metadata": {
        "id": "lj1pivrBhqeB"
      },
      "source": [
        "## Basic Data Exploration"
      ]
    },
    {
      "cell_type": "markdown",
      "metadata": {
        "id": "7q0ceiFAbdVH"
      },
      "source": [
        "Let's import pandas library, read csv file to DataFrame and take a quick look at it."
      ]
    },
    {
      "cell_type": "code",
      "metadata": {
        "colab": {
          "base_uri": "https://localhost:8080/",
          "height": 206
        },
        "id": "41WsngM9Wo5v",
        "outputId": "2e32ff4c-716f-4a75-9ebe-3fa23b287340"
      },
      "source": [
        "import pandas as pd\n",
        "iris = pd.read_csv(\"iris.csv\", header=None, names=['sepal length', 'sepal width', 'petal length', 'petal width', 'Species'], index_col=False)\n",
        "iris.head()\n"
      ],
      "execution_count": 2,
      "outputs": [
        {
          "output_type": "execute_result",
          "data": {
            "text/html": [
              "<div>\n",
              "<style scoped>\n",
              "    .dataframe tbody tr th:only-of-type {\n",
              "        vertical-align: middle;\n",
              "    }\n",
              "\n",
              "    .dataframe tbody tr th {\n",
              "        vertical-align: top;\n",
              "    }\n",
              "\n",
              "    .dataframe thead th {\n",
              "        text-align: right;\n",
              "    }\n",
              "</style>\n",
              "<table border=\"1\" class=\"dataframe\">\n",
              "  <thead>\n",
              "    <tr style=\"text-align: right;\">\n",
              "      <th></th>\n",
              "      <th>sepal length</th>\n",
              "      <th>sepal width</th>\n",
              "      <th>petal length</th>\n",
              "      <th>petal width</th>\n",
              "      <th>Species</th>\n",
              "    </tr>\n",
              "  </thead>\n",
              "  <tbody>\n",
              "    <tr>\n",
              "      <th>0</th>\n",
              "      <td>5.1</td>\n",
              "      <td>3.5</td>\n",
              "      <td>1.4</td>\n",
              "      <td>0.2</td>\n",
              "      <td>Iris-setosa</td>\n",
              "    </tr>\n",
              "    <tr>\n",
              "      <th>1</th>\n",
              "      <td>4.9</td>\n",
              "      <td>3.0</td>\n",
              "      <td>1.4</td>\n",
              "      <td>0.2</td>\n",
              "      <td>Iris-setosa</td>\n",
              "    </tr>\n",
              "    <tr>\n",
              "      <th>2</th>\n",
              "      <td>4.7</td>\n",
              "      <td>3.2</td>\n",
              "      <td>1.3</td>\n",
              "      <td>0.2</td>\n",
              "      <td>Iris-setosa</td>\n",
              "    </tr>\n",
              "    <tr>\n",
              "      <th>3</th>\n",
              "      <td>4.6</td>\n",
              "      <td>3.1</td>\n",
              "      <td>1.5</td>\n",
              "      <td>0.2</td>\n",
              "      <td>Iris-setosa</td>\n",
              "    </tr>\n",
              "    <tr>\n",
              "      <th>4</th>\n",
              "      <td>5.0</td>\n",
              "      <td>3.6</td>\n",
              "      <td>1.4</td>\n",
              "      <td>0.2</td>\n",
              "      <td>Iris-setosa</td>\n",
              "    </tr>\n",
              "  </tbody>\n",
              "</table>\n",
              "</div>"
            ],
            "text/plain": [
              "   sepal length  sepal width  petal length  petal width      Species\n",
              "0           5.1          3.5           1.4          0.2  Iris-setosa\n",
              "1           4.9          3.0           1.4          0.2  Iris-setosa\n",
              "2           4.7          3.2           1.3          0.2  Iris-setosa\n",
              "3           4.6          3.1           1.5          0.2  Iris-setosa\n",
              "4           5.0          3.6           1.4          0.2  Iris-setosa"
            ]
          },
          "metadata": {
            "tags": []
          },
          "execution_count": 2
        }
      ]
    },
    {
      "cell_type": "code",
      "metadata": {
        "colab": {
          "base_uri": "https://localhost:8080/"
        },
        "id": "R1sNe_Qgb2k8",
        "outputId": "b297e69c-c2ae-4557-b83b-455100e751aa"
      },
      "source": [
        "# to inspect number of rows and columns\n",
        "\n",
        "iris.shape"
      ],
      "execution_count": 3,
      "outputs": [
        {
          "output_type": "execute_result",
          "data": {
            "text/plain": [
              "(150, 5)"
            ]
          },
          "metadata": {
            "tags": []
          },
          "execution_count": 3
        }
      ]
    },
    {
      "cell_type": "markdown",
      "metadata": {
        "id": "m-NC1GxrfEl7"
      },
      "source": [
        "All four features are numeric, each with different ranges. There are no missing values in any of the columns. \n",
        "\n",
        "The ranges of attributes are of similar magnitude, thus we will skip standardization. "
      ]
    },
    {
      "cell_type": "code",
      "metadata": {
        "colab": {
          "base_uri": "https://localhost:8080/",
          "height": 300
        },
        "id": "35HqW3isb4M4",
        "outputId": "a17703ae-e512-42e6-83aa-79e5a737f6d4"
      },
      "source": [
        "iris.describe()"
      ],
      "execution_count": 4,
      "outputs": [
        {
          "output_type": "execute_result",
          "data": {
            "text/html": [
              "<div>\n",
              "<style scoped>\n",
              "    .dataframe tbody tr th:only-of-type {\n",
              "        vertical-align: middle;\n",
              "    }\n",
              "\n",
              "    .dataframe tbody tr th {\n",
              "        vertical-align: top;\n",
              "    }\n",
              "\n",
              "    .dataframe thead th {\n",
              "        text-align: right;\n",
              "    }\n",
              "</style>\n",
              "<table border=\"1\" class=\"dataframe\">\n",
              "  <thead>\n",
              "    <tr style=\"text-align: right;\">\n",
              "      <th></th>\n",
              "      <th>sepal length</th>\n",
              "      <th>sepal width</th>\n",
              "      <th>petal length</th>\n",
              "      <th>petal width</th>\n",
              "    </tr>\n",
              "  </thead>\n",
              "  <tbody>\n",
              "    <tr>\n",
              "      <th>count</th>\n",
              "      <td>150.000000</td>\n",
              "      <td>150.000000</td>\n",
              "      <td>150.000000</td>\n",
              "      <td>150.000000</td>\n",
              "    </tr>\n",
              "    <tr>\n",
              "      <th>mean</th>\n",
              "      <td>5.843333</td>\n",
              "      <td>3.054000</td>\n",
              "      <td>3.758667</td>\n",
              "      <td>1.198667</td>\n",
              "    </tr>\n",
              "    <tr>\n",
              "      <th>std</th>\n",
              "      <td>0.828066</td>\n",
              "      <td>0.433594</td>\n",
              "      <td>1.764420</td>\n",
              "      <td>0.763161</td>\n",
              "    </tr>\n",
              "    <tr>\n",
              "      <th>min</th>\n",
              "      <td>4.300000</td>\n",
              "      <td>2.000000</td>\n",
              "      <td>1.000000</td>\n",
              "      <td>0.100000</td>\n",
              "    </tr>\n",
              "    <tr>\n",
              "      <th>25%</th>\n",
              "      <td>5.100000</td>\n",
              "      <td>2.800000</td>\n",
              "      <td>1.600000</td>\n",
              "      <td>0.300000</td>\n",
              "    </tr>\n",
              "    <tr>\n",
              "      <th>50%</th>\n",
              "      <td>5.800000</td>\n",
              "      <td>3.000000</td>\n",
              "      <td>4.350000</td>\n",
              "      <td>1.300000</td>\n",
              "    </tr>\n",
              "    <tr>\n",
              "      <th>75%</th>\n",
              "      <td>6.400000</td>\n",
              "      <td>3.300000</td>\n",
              "      <td>5.100000</td>\n",
              "      <td>1.800000</td>\n",
              "    </tr>\n",
              "    <tr>\n",
              "      <th>max</th>\n",
              "      <td>7.900000</td>\n",
              "      <td>4.400000</td>\n",
              "      <td>6.900000</td>\n",
              "      <td>2.500000</td>\n",
              "    </tr>\n",
              "  </tbody>\n",
              "</table>\n",
              "</div>"
            ],
            "text/plain": [
              "       sepal length  sepal width  petal length  petal width\n",
              "count    150.000000   150.000000    150.000000   150.000000\n",
              "mean       5.843333     3.054000      3.758667     1.198667\n",
              "std        0.828066     0.433594      1.764420     0.763161\n",
              "min        4.300000     2.000000      1.000000     0.100000\n",
              "25%        5.100000     2.800000      1.600000     0.300000\n",
              "50%        5.800000     3.000000      4.350000     1.300000\n",
              "75%        6.400000     3.300000      5.100000     1.800000\n",
              "max        7.900000     4.400000      6.900000     2.500000"
            ]
          },
          "metadata": {
            "tags": []
          },
          "execution_count": 4
        }
      ]
    },
    {
      "cell_type": "markdown",
      "metadata": {
        "id": "tH2eIrjQgZKE"
      },
      "source": [
        "Iris is a balanced dataset as the data points for each class are evenly distributed. "
      ]
    },
    {
      "cell_type": "code",
      "metadata": {
        "colab": {
          "base_uri": "https://localhost:8080/"
        },
        "id": "sX244inBfpgj",
        "outputId": "4556c3d9-d2ff-4a3e-f81f-72bfaf604d51"
      },
      "source": [
        "iris.groupby('Species').size()"
      ],
      "execution_count": 5,
      "outputs": [
        {
          "output_type": "execute_result",
          "data": {
            "text/plain": [
              "Species\n",
              "Iris-setosa        50\n",
              "Iris-versicolor    50\n",
              "Iris-virginica     50\n",
              "dtype: int64"
            ]
          },
          "metadata": {
            "tags": []
          },
          "execution_count": 5
        }
      ]
    },
    {
      "cell_type": "markdown",
      "metadata": {
        "id": "7X5k-qeogu4e"
      },
      "source": [
        "## Data Visualization"
      ]
    },
    {
      "cell_type": "code",
      "metadata": {
        "id": "LUhpR_kLgxhl"
      },
      "source": [
        "import matplotlib as mpl\n",
        "import matplotlib.pyplot as plt\n",
        "plt.style.use('ggplot')"
      ],
      "execution_count": 6,
      "outputs": []
    },
    {
      "cell_type": "markdown",
      "metadata": {
        "id": "ivf1kKqwhZGS"
      },
      "source": [
        "Let's plot an each individual variable.\n",
        "\n",
        "Is's showing that both sepal length and sepal width have a normal (Gaussian) distribution. That is, the distribution has a symmetric bell shape. \n",
        "However, the length of petals is not normal. Its plot shows two modes, one peak happening near 0 and the other around 5. Less patterns were observed for the petal width. "
      ]
    },
    {
      "cell_type": "code",
      "metadata": {
        "colab": {
          "base_uri": "https://localhost:8080/",
          "height": 282
        },
        "id": "GhtqQnnNg79U",
        "outputId": "12391cfd-9394-40b5-d5c2-ff92d2b0d540"
      },
      "source": [
        "iris.hist()\n",
        "plt.show()"
      ],
      "execution_count": 7,
      "outputs": [
        {
          "output_type": "display_data",
          "data": {
            "image/png": "[encoded data removed]",
            "text/plain": [
              "<Figure size 432x288 with 4 Axes>"
            ]
          },
          "metadata": {
            "tags": []
          }
        }
      ]
    },
    {
      "cell_type": "markdown",
      "metadata": {
        "id": "PcWzodnCjknP"
      },
      "source": [
        "###Multivariate Plot\n",
        "\n",
        "Scatter plot can be used to see the interactions between the attributes. To better distinguish between them the color scheem is used.\n"
      ]
    },
    {
      "cell_type": "markdown",
      "metadata": {
        "id": "tCUTNwDYnojn"
      },
      "source": [
        "####Sepal length and width"
      ]
    },
    {
      "cell_type": "code",
      "metadata": {
        "colab": {
          "base_uri": "https://localhost:8080/",
          "height": 285
        },
        "id": "4pMCOTJXihbS",
        "outputId": "fe21500a-8958-4090-ffe3-277ffb31b341"
      },
      "source": [
        "# build a dict mapping species to an integer code\n",
        "\n",
        "inv_name_dict = {'Iris-setosa': 0, 'Iris-versicolor': 1, 'Iris-virginica': 2}\n",
        "\n",
        "# build integer color code 0/1/2\n",
        "\n",
        "colors = [inv_name_dict[item] for item in iris['Species']] \n",
        "\n",
        "# scatter plot\n",
        "\n",
        "scatter = plt.scatter(iris['sepal length'], iris['sepal width'], c = colors)\n",
        "\n",
        "plt.xlabel('sepal length (cm)')\n",
        "plt.ylabel('sepal width (cm)')\n",
        "\n",
        "# add legend \n",
        "plt.legend(handles=scatter.legend_elements()[0],loc=\"upper right\", title=\"Species\", labels = inv_name_dict.keys())\n",
        "plt.show()\n"
      ],
      "execution_count": 8,
      "outputs": [
        {
          "output_type": "display_data",
          "data": {
            "image/png": "[encoded data removed]",
            "text/plain": [
              "<Figure size 432x288 with 1 Axes>"
            ]
          },
          "metadata": {
            "tags": []
          }
        }
      ]
    },
    {
      "cell_type": "markdown",
      "metadata": {
        "id": "DKYhV4CFnlbX"
      },
      "source": [
        "#### Petal length and width"
      ]
    },
    {
      "cell_type": "code",
      "metadata": {
        "colab": {
          "base_uri": "https://localhost:8080/",
          "height": 282
        },
        "id": "23eyWiMznl35",
        "outputId": "4497845e-e8c6-45fb-d168-535b9841db18"
      },
      "source": [
        "# scatter plot\n",
        "\n",
        "scatter = plt.scatter(iris['petal length'], iris['petal width'],c = colors)\n",
        "\n",
        "plt.xlabel('petal length (cm)')\n",
        "\n",
        "plt.ylabel('petal width (cm)')\n",
        "\n",
        "# add legend\n",
        "\n",
        "plt.legend(handles= scatter.legend_elements()[0], title=\"Species\", labels = inv_name_dict.keys())\n",
        "\n",
        "plt.show()"
      ],
      "execution_count": 9,
      "outputs": [
        {
          "output_type": "display_data",
          "data": {
            "image/png": "[encoded data removed]",
            "text/plain": [
              "<Figure size 432x288 with 1 Axes>"
            ]
          },
          "metadata": {
            "tags": []
          }
        }
      ]
    },
    {
      "cell_type": "markdown",
      "metadata": {
        "id": "g1ViiALOobgl"
      },
      "source": [
        "Already visualy we can note that the length and width of the petal are highly correlated, and these two features are very useful to identify various iris species. However the boundary between iris-versicolor and iris-virginica remains a bit fuzzy, indicating the difficulties for some classifiers. "
      ]
    },
    {
      "cell_type": "markdown",
      "metadata": {
        "id": "n0HkJQQjpgXf"
      },
      "source": [
        "#### Plot between all pairs"
      ]
    },
    {
      "cell_type": "markdown",
      "metadata": {
        "id": "a8vJpFBLefl3"
      },
      "source": [
        "With this matrix plotting we can see the scatter plots of all pairs of attributes. It helps spot structured relationships between features."
      ]
    },
    {
      "cell_type": "code",
      "metadata": {
        "colab": {
          "base_uri": "https://localhost:8080/",
          "height": 604
        },
        "id": "w22AdnM7nlDs",
        "outputId": "7307c5fe-52e6-48ab-ca3a-eb59a7bee352"
      },
      "source": [
        "scatter_mtx = pd.plotting.scatter_matrix(iris, figsize=(10,10), )"
      ],
      "execution_count": 14,
      "outputs": [
        {
          "output_type": "display_data",
          "data": {
            "image/png": "[encoded data removed]",
            "text/plain": [
              "<Figure size 720x720 with 16 Axes>"
            ]
          },
          "metadata": {
            "tags": []
          }
        }
      ]
    },
    {
      "cell_type": "markdown",
      "metadata": {
        "id": "IHc7Hq9Pnkw2"
      },
      "source": [
        "## Classification\n"
      ]
    },
    {
      "cell_type": "markdown",
      "metadata": {
        "id": "XisggAtwgWal"
      },
      "source": [
        "### Data Preparation"
      ]
    },
    {
      "cell_type": "markdown",
      "metadata": {
        "id": "_iAUO3NMgd2G"
      },
      "source": [
        "As it was seen before the length and the width of the petals are the most useful features to separate the species."
      ]
    },
    {
      "cell_type": "code",
      "metadata": {
        "id": "fTHZ9v5bgZnl"
      },
      "source": [
        "X = iris[['petal length', 'petal width']]\n",
        "\n",
        "y = iris['Species']"
      ],
      "execution_count": 18,
      "outputs": []
    },
    {
      "cell_type": "code",
      "metadata": {
        "id": "pPhOGczthN_K"
      },
      "source": [
        "from sklearn.model_selection import train_test_split\n",
        "\n",
        "X_train, X_test, y_train, y_test = train_test_split(X, y, test_size=0.30, random_state=1, stratify=y)\n"
      ],
      "execution_count": 24,
      "outputs": []
    },
    {
      "cell_type": "code",
      "metadata": {
        "colab": {
          "base_uri": "https://localhost:8080/"
        },
        "id": "wzbASjDdiGUP",
        "outputId": "c7f9692f-c36e-41e4-da68-f14e81f6ddd0"
      },
      "source": [
        "# \"stratify = y\" is done to ensure that the distribution of labels remains similar in both train and test sets\n",
        "print(y_train.value_counts())\n",
        "print(y_test.value_counts())"
      ],
      "execution_count": 25,
      "outputs": [
        {
          "output_type": "stream",
          "text": [
            "Iris-virginica     35\n",
            "Iris-setosa        35\n",
            "Iris-versicolor    35\n",
            "Name: Species, dtype: int64\n",
            "Iris-virginica     15\n",
            "Iris-setosa        15\n",
            "Iris-versicolor    15\n",
            "Name: Species, dtype: int64\n"
          ],
          "name": "stdout"
        }
      ]
    },
    {
      "cell_type": "markdown",
      "metadata": {
        "id": "_4uKlZcbitMw"
      },
      "source": [
        "### Modeling\n",
        "\n",
        "Scikit-learn library:\n",
        "\n",
        "*  Import model\n",
        "*  Instanciate\n",
        "*  Apply\n",
        "*  Predict"
      ]
    },
    {
      "cell_type": "code",
      "metadata": {
        "id": "9Joq6j6Cf3oc"
      },
      "source": [
        "from sklearn.neighbors import KNeighborsClassifier"
      ],
      "execution_count": 29,
      "outputs": []
    },
    {
      "cell_type": "code",
      "metadata": {
        "id": "EugcPGY0iq-X"
      },
      "source": [
        "knn = KNeighborsClassifier(n_neighbors=5)"
      ],
      "execution_count": 30,
      "outputs": []
    },
    {
      "cell_type": "code",
      "metadata": {
        "colab": {
          "base_uri": "https://localhost:8080/"
        },
        "id": "9AYzzplejqQ1",
        "outputId": "e126451d-ad56-454e-ea67-bdbf886e6793"
      },
      "source": [
        "# metric='minkowski' and p=2 together defines that the distance used is euclidean distance. \n",
        "\n",
        "knn.fit(X_train, y_train)"
      ],
      "execution_count": 32,
      "outputs": [
        {
          "output_type": "execute_result",
          "data": {
            "text/plain": [
              "KNeighborsClassifier(algorithm='auto', leaf_size=30, metric='minkowski',\n",
              "                     metric_params=None, n_jobs=None, n_neighbors=5, p=2,\n",
              "                     weights='uniform')"
            ]
          },
          "metadata": {
            "tags": []
          },
          "execution_count": 32
        }
      ]
    },
    {
      "cell_type": "code",
      "metadata": {
        "colab": {
          "base_uri": "https://localhost:8080/"
        },
        "id": "Kn2fcOnsoQy7",
        "outputId": "159d2621-0921-4685-d11b-2f0928aa7893"
      },
      "source": [
        "# hard predict returns labels only\n",
        "pred = knn.predict(X_test)\n",
        "pred[10:12]"
      ],
      "execution_count": 34,
      "outputs": [
        {
          "output_type": "execute_result",
          "data": {
            "text/plain": [
              "array(['Iris-setosa', 'Iris-virginica'], dtype=object)"
            ]
          },
          "metadata": {
            "tags": []
          },
          "execution_count": 34
        }
      ]
    },
    {
      "cell_type": "code",
      "metadata": {
        "colab": {
          "base_uri": "https://localhost:8080/"
        },
        "id": "I06E2gtspHKk",
        "outputId": "da201435-6e2b-42e7-9e0b-458ec611f22f"
      },
      "source": [
        "# soft predict returns the predicted probabilities of data points belonging to each of the classes\n",
        "pred_prob = knn.predict_proba(X_test)\n",
        "pred_prob[10:12]"
      ],
      "execution_count": 35,
      "outputs": [
        {
          "output_type": "execute_result",
          "data": {
            "text/plain": [
              "array([[1. , 0. , 0. ],\n",
              "       [0. , 0.2, 0.8]])"
            ]
          },
          "metadata": {
            "tags": []
          },
          "execution_count": 35
        }
      ]
    },
    {
      "cell_type": "markdown",
      "metadata": {
        "id": "FLbqfJ0jgUbP"
      },
      "source": [
        ""
      ]
    },
    {
      "cell_type": "markdown",
      "metadata": {
        "id": "Llz2BeNSp4Np"
      },
      "source": [
        "### Model Evaluation"
      ]
    },
    {
      "cell_type": "code",
      "metadata": {
        "colab": {
          "base_uri": "https://localhost:8080/"
        },
        "id": "gW_m-NWDp6zx",
        "outputId": "00e2a772-f571-4c1f-e1a6-999dbd1b3cc1"
      },
      "source": [
        "knn.score(X_test, y_test)"
      ],
      "execution_count": 45,
      "outputs": [
        {
          "output_type": "execute_result",
          "data": {
            "text/plain": [
              "0.9777777777777777"
            ]
          },
          "metadata": {
            "tags": []
          },
          "execution_count": 45
        }
      ]
    },
    {
      "cell_type": "markdown",
      "metadata": {
        "id": "rWFk73slr2-f"
      },
      "source": [
        "or"
      ]
    },
    {
      "cell_type": "code",
      "metadata": {
        "id": "VpqSO_F8qoLo"
      },
      "source": [
        " from sklearn.metrics import accuracy_score"
      ],
      "execution_count": 46,
      "outputs": []
    },
    {
      "cell_type": "code",
      "metadata": {
        "colab": {
          "base_uri": "https://localhost:8080/"
        },
        "id": "dSqoeJ81r-zm",
        "outputId": "6a31a05f-2ecc-4823-be5d-c44b645e0202"
      },
      "source": [
        "accuracy_score(y_test, pred).round(2)"
      ],
      "execution_count": 63,
      "outputs": [
        {
          "output_type": "execute_result",
          "data": {
            "text/plain": [
              "0.98"
            ]
          },
          "metadata": {
            "tags": []
          },
          "execution_count": 63
        }
      ]
    },
    {
      "cell_type": "markdown",
      "metadata": {
        "id": "nGf0Kmg-vtpv"
      },
      "source": [
        "#### Confusion Matrix"
      ]
    },
    {
      "cell_type": "code",
      "metadata": {
        "colab": {
          "base_uri": "https://localhost:8080/",
          "height": 282
        },
        "id": "CTjy8rXmsZgt",
        "outputId": "1c7090ca-3bed-4b3a-82c1-81c311b2af1b"
      },
      "source": [
        "from sklearn.metrics import confusion_matrix, plot_confusion_matrix \n",
        "\n",
        "conf_mtx = plot_confusion_matrix(knn, X_test, y_test, cmap=plt.cm.Blues)"
      ],
      "execution_count": 53,
      "outputs": [
        {
          "output_type": "display_data",
          "data": {
            "image/png": "[encoded data removed]",
            "text/plain": [
              "<Figure size 432x288 with 2 Axes>"
            ]
          },
          "metadata": {
            "tags": []
          }
        }
      ]
    },
    {
      "cell_type": "markdown",
      "metadata": {
        "id": "tcOEYhRI9fNo"
      },
      "source": [
        "#### K-fold Cross Validation\n",
        "\n",
        "We can not rely on one single train-test split, rather we report the accuracy based on a k-fold cross validation. \n",
        "Especially if the Iris dataset isn't large in sample size, cross validation becomes more acceptable.\n"
      ]
    },
    {
      "cell_type": "code",
      "metadata": {
        "id": "bQl2utui9ivE"
      },
      "source": [
        "from sklearn.model_selection import cross_val_score\n",
        "\n",
        "# create a new model with knn parameter 3\n",
        "\n",
        "knn_cv = KNeighborsClassifier(n_neighbors=5)"
      ],
      "execution_count": 59,
      "outputs": []
    },
    {
      "cell_type": "code",
      "metadata": {
        "id": "sJ9DNNzI9r61",
        "outputId": "9fa1d9f5-ed92-4b83-9b23-16191df008f5",
        "colab": {
          "base_uri": "https://localhost:8080/"
        }
      },
      "source": [
        "# train model with 5-fold cv\n",
        "\n",
        "cv_scores = cross_val_score(knn_cv, X, y, cv=5)\n",
        "print(cv_scores)"
      ],
      "execution_count": 60,
      "outputs": [
        {
          "output_type": "stream",
          "text": [
            "[0.96666667 0.96666667 0.93333333 0.96666667 1.        ]\n"
          ],
          "name": "stdout"
        }
      ]
    },
    {
      "cell_type": "code",
      "metadata": {
        "id": "Z7v104PP_bhG",
        "outputId": "1c8a17a6-1bc3-4278-d48f-0d695e6216e3",
        "colab": {
          "base_uri": "https://localhost:8080/"
        }
      },
      "source": [
        "cv_scores.mean().round(2)"
      ],
      "execution_count": 62,
      "outputs": [
        {
          "output_type": "execute_result",
          "data": {
            "text/plain": [
              "0.97"
            ]
          },
          "metadata": {
            "tags": []
          },
          "execution_count": 62
        }
      ]
    },
    {
      "cell_type": "markdown",
      "metadata": {
        "id": "4hAmG0dXE7U6"
      },
      "source": [
        "#### Tuning the hyperparameter -- Grid Search"
      ]
    },
    {
      "cell_type": "code",
      "metadata": {
        "id": "x3RVatd8E_IT",
        "outputId": "0d8da2d1-7003-4d5d-ca3f-46f211ac47c8",
        "colab": {
          "base_uri": "https://localhost:8080/"
        }
      },
      "source": [
        "from sklearn.model_selection import GridSearchCV\n",
        "import numpy as np\n",
        "\n",
        "# create new a knn model\n",
        "\n",
        "knn2 = KNeighborsClassifier()\n",
        "\n",
        "param_grid = {'n_neighbors': np.arange(2, 10)}\n",
        "\n",
        "# use gridsearch to train the model on all values for n_neighbors and compute cross validation score\n",
        "\n",
        "knn_gscv = GridSearchCV(knn2, param_grid, cv=5)\n",
        "\n",
        "#fit model to data\n",
        "\n",
        "knn_gscv.fit(X, y)"
      ],
      "execution_count": 66,
      "outputs": [
        {
          "output_type": "execute_result",
          "data": {
            "text/plain": [
              "GridSearchCV(cv=5, error_score=nan,\n",
              "             estimator=KNeighborsClassifier(algorithm='auto', leaf_size=30,\n",
              "                                            metric='minkowski',\n",
              "                                            metric_params=None, n_jobs=None,\n",
              "                                            n_neighbors=5, p=2,\n",
              "                                            weights='uniform'),\n",
              "             iid='deprecated', n_jobs=None,\n",
              "             param_grid={'n_neighbors': array([2, 3, 4, 5, 6, 7, 8, 9])},\n",
              "             pre_dispatch='2*n_jobs', refit=True, return_train_score=False,\n",
              "             scoring=None, verbose=0)"
            ]
          },
          "metadata": {
            "tags": []
          },
          "execution_count": 66
        }
      ]
    },
    {
      "cell_type": "code",
      "metadata": {
        "id": "H7Y7ZzxhGalr",
        "outputId": "c0be2b07-f012-4185-d2a5-5298eec1539d",
        "colab": {
          "base_uri": "https://localhost:8080/"
        }
      },
      "source": [
        "# To check the top performing n_neighbors value and accuracy of model\n",
        "\n",
        "print(\"Best parameter for knn is {} with accuracy score {}%\".format(knn_gscv.best_params_['n_neighbors'], knn_gscv.best_score_.round(3)*100))\n"
      ],
      "execution_count": 82,
      "outputs": [
        {
          "output_type": "stream",
          "text": [
            "Best parameter for knn is 4 with accuracy score 96.7%\n"
          ],
          "name": "stdout"
        }
      ]
    },
    {
      "cell_type": "markdown",
      "metadata": {
        "id": "Q8j3F3UjIxGe"
      },
      "source": [
        "### Final Model build"
      ]
    },
    {
      "cell_type": "code",
      "metadata": {
        "id": "fjkliTnkGadg",
        "outputId": "5d8b1aa7-57f8-49c1-b179-eeed364fc1e2",
        "colab": {
          "base_uri": "https://localhost:8080/"
        }
      },
      "source": [
        "knn_final = KNeighborsClassifier(n_neighbors=knn_gscv.best_params_['n_neighbors'])\n",
        "knn_final.fit(X, y)\n",
        "\n",
        "y_pred = knn_final.predict(X)\n",
        "print(\"{}%\".format(knn_final.score(X, y).round(3)*100))\n"
      ],
      "execution_count": 81,
      "outputs": [
        {
          "output_type": "stream",
          "text": [
            "97.3%\n"
          ],
          "name": "stdout"
        }
      ]
    },
    {
      "cell_type": "markdown",
      "metadata": {
        "id": "gEVRAomTKkHX"
      },
      "source": [
        "### Label Prediction with New Data"
      ]
    },
    {
      "cell_type": "code",
      "metadata": {
        "id": "hh0qb3C4I6ou",
        "outputId": "80a7487c-65e5-4ccd-d3f2-ef22e1fcf508",
        "colab": {
          "base_uri": "https://localhost:8080/",
          "height": 185
        }
      },
      "source": [
        "# this model requires 2D array\n",
        "new_data = np.array([[3.76, 1.2],[5.25, 1.2]])"
      ],
      "execution_count": 1,
      "outputs": [
        {
          "output_type": "error",
          "ename": "NameError",
          "evalue": "ignored",
          "traceback": [
            "\u001b[0;31m---------------------------------------------------------------------------\u001b[0m",
            "\u001b[0;31mNameError\u001b[0m                                 Traceback (most recent call last)",
            "\u001b[0;32m<ipython-input-1-08ec625648c3>\u001b[0m in \u001b[0;36m<module>\u001b[0;34m()\u001b[0m\n\u001b[1;32m      1\u001b[0m \u001b[0;31m# this model requires 2D array\u001b[0m\u001b[0;34m\u001b[0m\u001b[0;34m\u001b[0m\u001b[0;34m\u001b[0m\u001b[0m\n\u001b[0;32m----> 2\u001b[0;31m \u001b[0mnew_data\u001b[0m \u001b[0;34m=\u001b[0m \u001b[0mnp\u001b[0m\u001b[0;34m.\u001b[0m\u001b[0marray\u001b[0m\u001b[0;34m(\u001b[0m\u001b[0;34m[\u001b[0m\u001b[0;34m[\u001b[0m\u001b[0;36m3.76\u001b[0m\u001b[0;34m,\u001b[0m \u001b[0;36m1.2\u001b[0m\u001b[0;34m]\u001b[0m\u001b[0;34m,\u001b[0m\u001b[0;34m[\u001b[0m\u001b[0;36m5.25\u001b[0m\u001b[0;34m,\u001b[0m \u001b[0;36m1.2\u001b[0m\u001b[0;34m]\u001b[0m\u001b[0;34m]\u001b[0m\u001b[0;34m)\u001b[0m\u001b[0;34m\u001b[0m\u001b[0;34m\u001b[0m\u001b[0m\n\u001b[0m",
            "\u001b[0;31mNameError\u001b[0m: name 'np' is not defined"
          ]
        }
      ]
    },
    {
      "cell_type": "code",
      "metadata": {
        "id": "v1vVgZjzLScu",
        "outputId": "c480a74a-4ce9-47c3-d0e1-a172fadff449",
        "colab": {
          "base_uri": "https://localhost:8080/",
          "height": 167
        }
      },
      "source": [
        "knn_final.predict(new_data)"
      ],
      "execution_count": 2,
      "outputs": [
        {
          "output_type": "error",
          "ename": "NameError",
          "evalue": "ignored",
          "traceback": [
            "\u001b[0;31m---------------------------------------------------------------------------\u001b[0m",
            "\u001b[0;31mNameError\u001b[0m                                 Traceback (most recent call last)",
            "\u001b[0;32m<ipython-input-2-b785bb7bdd29>\u001b[0m in \u001b[0;36m<module>\u001b[0;34m()\u001b[0m\n\u001b[0;32m----> 1\u001b[0;31m \u001b[0mknn_final\u001b[0m\u001b[0;34m.\u001b[0m\u001b[0mpredict\u001b[0m\u001b[0;34m(\u001b[0m\u001b[0mnew_data\u001b[0m\u001b[0;34m)\u001b[0m\u001b[0;34m\u001b[0m\u001b[0;34m\u001b[0m\u001b[0m\n\u001b[0m",
            "\u001b[0;31mNameError\u001b[0m: name 'knn_final' is not defined"
          ]
        }
      ]
    },
    {
      "cell_type": "code",
      "metadata": {
        "id": "q21C3J8ALqxp"
      },
      "source": [
        ""
      ],
      "execution_count": null,
      "outputs": []
    }
  ]
}