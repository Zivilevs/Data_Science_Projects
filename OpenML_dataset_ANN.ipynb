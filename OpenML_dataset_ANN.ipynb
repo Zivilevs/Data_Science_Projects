{
  "nbformat": 4,
  "nbformat_minor": 0,
  "metadata": {
    "colab": {
      "name": "OpenML_dataset_ANN.ipynb",
      "provenance": [],
      "authorship_tag": "ABX9TyMqWnr/aPP0xEQingfceYys",
      "include_colab_link": true
    },
    "kernelspec": {
      "name": "python3",
      "display_name": "Python 3"
    }
  },
  "cells": [
    {
      "cell_type": "markdown",
      "metadata": {
        "id": "view-in-github",
        "colab_type": "text"
      },
      "source": [
        "<a href=\"https://colab.research.google.com/github/Zivilevs/Data_Science_Projects/blob/main/OpenML_dataset_ANN.ipynb\" target=\"_parent\"><img src=\"https://colab.research.google.com/assets/colab-badge.svg\" alt=\"Open In Colab\"/></a>"
      ]
    },
    {
      "cell_type": "markdown",
      "metadata": {
        "id": "7S9b-NANuSl2"
      },
      "source": [
        "# Artificial Naural Network\n",
        "\n",
        "OpemML dataset. \n",
        "\n",
        "Goal : Visualizing MLP Weights\n"
      ]
    },
    {
      "cell_type": "markdown",
      "metadata": {
        "id": "ZNx4A9fiuiC_"
      },
      "source": [
        "[Open ML](https://www.openml.org) has a database of large datasets that can be used for a variety of machine learning problems. Scikit-learn has a function `fetch_openml` for directly downloading datasets from the Open ML database. "
      ]
    },
    {
      "cell_type": "code",
      "metadata": {
        "id": "NJPBxni2u7fj"
      },
      "source": [
        "import numpy as np"
      ],
      "execution_count": 1,
      "outputs": []
    },
    {
      "cell_type": "code",
      "metadata": {
        "id": "_z-MoSbhuQUs"
      },
      "source": [
        "from sklearn.datasets import fetch_openml\n",
        "\n",
        "X, y = fetch_openml('mnist_784', version=1, return_X_y=True)"
      ],
      "execution_count": 2,
      "outputs": []
    },
    {
      "cell_type": "markdown",
      "metadata": {
        "id": "_owoy8mmvAJT"
      },
      "source": [
        "We use a version from Open ML that has 784 pixels (28 x 28).\n",
        "The feature values range from 0 to 255 (which we interpret on a gray scale with 0 being white and 255 being black). \n",
        "\n",
        "The target values are the numbers 0-9. Note that the target values are stored as strings and not integers.\n"
      ]
    },
    {
      "cell_type": "code",
      "metadata": {
        "colab": {
          "base_uri": "https://localhost:8080/"
        },
        "id": "nQ7Jneshuvvh",
        "outputId": "650373f7-e0be-4c1a-9ddf-b466f9ff2fbd"
      },
      "source": [
        "print(X.shape, y.shape)\n",
        "\n",
        "print(np.min(X), np.max(X))\n",
        "\n",
        "print(y[0:5])\n"
      ],
      "execution_count": 3,
      "outputs": [
        {
          "output_type": "stream",
          "text": [
            "(70000, 784) (70000,)\n",
            "0.0 255.0\n",
            "['5' '0' '4' '1' '9']\n"
          ],
          "name": "stdout"
        }
      ]
    },
    {
      "cell_type": "markdown",
      "metadata": {
        "id": "8dNvPZ6MvdbU"
      },
      "source": [
        "\n",
        "This model will use only the digits 0-3, so we can use the following code to segment out that portion of the dataset."
      ]
    },
    {
      "cell_type": "code",
      "metadata": {
        "id": "al47ceJovjnc"
      },
      "source": [
        "X3 = X[y <= '3']\n",
        "\n",
        "y3 = y[y <= '3']"
      ],
      "execution_count": 4,
      "outputs": []
    },
    {
      "cell_type": "markdown",
      "metadata": {
        "id": "qm2hXYxmwFJD"
      },
      "source": [
        "Since the goal is to visualize the weights of the hidden layer, we will use only 6 nodes in the hidden layer so that we can look at all of them. We will use `sgd` (stochastic gradient descent) as our solver which requires us to decrease `alpha` (the learning rate).*italicized text*"
      ]
    },
    {
      "cell_type": "code",
      "metadata": {
        "colab": {
          "base_uri": "https://localhost:8080/"
        },
        "id": "1pO3rAiQvpB6",
        "outputId": "4c38e59b-fc42-414c-b239-b1050b683dfb"
      },
      "source": [
        "from sklearn.neural_network import MLPClassifier\n",
        "mlp = MLPClassifier(hidden_layer_sizes=(6,), max_iter=200, alpha=1e-4, solver='sgd', random_state=2)\n",
        "\n",
        "mlp.fit(X3, y3)"
      ],
      "execution_count": 5,
      "outputs": [
        {
          "output_type": "execute_result",
          "data": {
            "text/plain": [
              "MLPClassifier(activation='relu', alpha=0.0001, batch_size='auto', beta_1=0.9,\n",
              "              beta_2=0.999, early_stopping=False, epsilon=1e-08,\n",
              "              hidden_layer_sizes=(6,), learning_rate='constant',\n",
              "              learning_rate_init=0.001, max_fun=15000, max_iter=200,\n",
              "              momentum=0.9, n_iter_no_change=10, nesterovs_momentum=True,\n",
              "              power_t=0.5, random_state=2, shuffle=True, solver='sgd',\n",
              "              tol=0.0001, validation_fraction=0.1, verbose=False,\n",
              "              warm_start=False)"
            ]
          },
          "metadata": {
            "tags": []
          },
          "execution_count": 5
        }
      ]
    },
    {
      "cell_type": "code",
      "metadata": {
        "colab": {
          "base_uri": "https://localhost:8080/"
        },
        "id": "Jnxrb5YBweHE",
        "outputId": "3e6b8422-3df4-4cd3-e644-e239d50bd5e1"
      },
      "source": [
        "print(mlp.coefs_)\n",
        "\n",
        "# The elements in the list correspond to the layers: the hidden layer and the output layer. \n",
        "print(len(mlp.coefs_))"
      ],
      "execution_count": 6,
      "outputs": [
        {
          "output_type": "stream",
          "text": [
            "[array([[-0.01115575, -0.08262854,  0.00865591, -0.01127296, -0.01387947,\n",
            "        -0.02957174],\n",
            "       [-0.05147818,  0.0207883 , -0.03491913, -0.04064077,  0.02111298,\n",
            "         0.00507931],\n",
            "       [-0.06369078,  0.00236659, -0.05500046,  0.0497324 ,  0.06169602,\n",
            "        -0.00100449],\n",
            "       ...,\n",
            "       [ 0.03318823,  0.03072627,  0.04947788, -0.07696042, -0.02204155,\n",
            "        -0.00295475],\n",
            "       [ 0.03754548,  0.02460184,  0.03225107,  0.04285346, -0.07510661,\n",
            "        -0.05427416],\n",
            "       [-0.06503772, -0.07023683, -0.02863245, -0.01949495,  0.07608979,\n",
            "        -0.05707046]]), array([[ 0.16384742, -2.14555656,  0.13976646,  0.98950216],\n",
            "       [-0.03474033, -0.21458481, -0.31142723,  0.89648366],\n",
            "       [-2.56161615, -0.46390046,  1.5514097 ,  1.35598971],\n",
            "       [ 1.32292722, -2.67019227,  0.18579904, -0.01939295],\n",
            "       [ 0.72234244, -0.71707787,  0.03996007, -1.28525007],\n",
            "       [ 0.1311403 ,  0.09796007, -0.78005923, -0.21693195]])]\n",
            "2\n"
          ],
          "name": "stdout"
        }
      ]
    },
    {
      "cell_type": "markdown",
      "metadata": {
        "id": "eap3gA0t1mV4"
      },
      "source": [
        "Let’s look at the shape of the coefficients for the hidden layer."
      ]
    },
    {
      "cell_type": "code",
      "metadata": {
        "colab": {
          "base_uri": "https://localhost:8080/"
        },
        "id": "Wrnvqx_QxDio",
        "outputId": "35ff6b57-8adc-481f-ad56-c36e3af24b1b"
      },
      "source": [
        "print(mlp.coefs_[0].shape)\n"
      ],
      "execution_count": 7,
      "outputs": [
        {
          "output_type": "stream",
          "text": [
            "(784, 6)\n"
          ],
          "name": "stdout"
        }
      ]
    },
    {
      "cell_type": "markdown",
      "metadata": {
        "id": "eQgV9l3D1yj8"
      },
      "source": [
        "There is a 2-dimensional array of size 784 x 6. There are 6 nodes and 784 input values feeding into each node, and we have a weight for each of these connections. \n",
        "\n",
        "In order to interpret the values, we will need to use a visual representation.\n",
        "In matplotlib we can use the subplots function to create multiple plots within a single plot."
      ]
    },
    {
      "cell_type": "code",
      "metadata": {
        "colab": {
          "base_uri": "https://localhost:8080/",
          "height": 255
        },
        "id": "Qhxcm0Fx1ohY",
        "outputId": "420d16bf-dab6-40c9-8f14-2a8a8cf89dc6"
      },
      "source": [
        "import matplotlib.pyplot as plt\n",
        "\n",
        "fig, axes = plt.subplots(2, 3, figsize=(5, 4))\n",
        "for i, ax in enumerate(axes.ravel()):\n",
        "    coef = mlp.coefs_[0][:, i]\n",
        "    ax.matshow(coef.reshape(28, 28), cmap=plt.cm.gray)\n",
        "    ax.set_xticks(())\n",
        "    ax.set_yticks(())\n",
        "    ax.set_title(i + 1)\n",
        "\n",
        "plt.show()"
      ],
      "execution_count": 8,
      "outputs": [
        {
          "output_type": "display_data",
          "data": {
            "image/png": "[encoded data removed]",
            "text/plain": [
              "<Figure size 360x288 with 6 Axes>"
            ]
          },
          "metadata": {
            "tags": []
          }
        }
      ]
    },
    {
      "cell_type": "markdown",
      "metadata": {
        "id": "upc3WFCk3V-q"
      },
      "source": [
        "We can see that nodes 4 and 6 are determining if the digit is a 3. Node 1 is determining if the digit is a 0 or a 2 since you can see both of those values in the image. Not every hidden node will have an obvious use. "
      ]
    }
  ]
}