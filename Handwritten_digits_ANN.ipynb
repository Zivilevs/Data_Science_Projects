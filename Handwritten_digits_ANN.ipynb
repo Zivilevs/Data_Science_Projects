{
  "nbformat": 4,
  "nbformat_minor": 0,
  "metadata": {
    "colab": {
      "name": "Handwritten_digits_ANN.ipynb",
      "provenance": [],
      "authorship_tag": "ABX9TyN7ffoZT43fJcn7+ar8orY4",
      "include_colab_link": true
    },
    "kernelspec": {
      "name": "python3",
      "display_name": "Python 3"
    }
  },
  "cells": [
    {
      "cell_type": "markdown",
      "metadata": {
        "id": "view-in-github",
        "colab_type": "text"
      },
      "source": [
        "<a href=\"https://colab.research.google.com/github/Zivilevs/Data_Science_Projects/blob/main/Handwritten_digits_ANN.ipynb\" target=\"_parent\"><img src=\"https://colab.research.google.com/assets/colab-badge.svg\" alt=\"Open In Colab\"/></a>"
      ]
    },
    {
      "cell_type": "markdown",
      "metadata": {
        "id": "TGdZYDgHdhWL"
      },
      "source": [
        "# Predicting Handwritten Digits"
      ]
    },
    {
      "cell_type": "markdown",
      "metadata": {
        "id": "amFuajoed0ng"
      },
      "source": [
        "The MNIST database of handwritten digits. \n",
        "\n",
        "This database of images of handwritten digits will be used to build a classifier to determine which digit is in the image. \n",
        "\n",
        "We will start with the version of the MNIST dataset that is built into scikit-learn. This has the images with only 8 by 8 pixels, so they are blurry.\n",
        "\n"
      ]
    },
    {
      "cell_type": "markdown",
      "metadata": {
        "id": "mdi9Ia6njWLG"
      },
      "source": [
        "## Model for 0 and 1\n"
      ]
    },
    {
      "cell_type": "markdown",
      "metadata": {
        "id": "WGMNV-x-efV_"
      },
      "source": [
        "To simplify the problem, we start by working with two digits (0 and 1), so we use the `n_class` parameter to limit the number of target values to 2."
      ]
    },
    {
      "cell_type": "code",
      "metadata": {
        "id": "DoMNv5ludhBs"
      },
      "source": [
        "from sklearn.datasets import load_digits\n",
        "\n",
        "X, y = load_digits(n_class=2, return_X_y=True)"
      ],
      "execution_count": 1,
      "outputs": []
    },
    {
      "cell_type": "code",
      "metadata": {
        "colab": {
          "base_uri": "https://localhost:8080/"
        },
        "id": "nUNaedEKdeUJ",
        "outputId": "1c6e502d-6df0-49b0-ccb5-20d26ddab205"
      },
      "source": [
        "print(X.shape, y.shape)\n",
        "print(X[0])\n",
        "print(y[0])\n",
        "\n",
        "# as image has 8 x 8 pixels we end up having 64 features. The value is on a grayscale where 0 is black and 16 is white. "
      ],
      "execution_count": 2,
      "outputs": [
        {
          "output_type": "stream",
          "text": [
            "(360, 64) (360,)\n",
            "[ 0.  0.  5. 13.  9.  1.  0.  0.  0.  0. 13. 15. 10. 15.  5.  0.  0.  3.\n",
            " 15.  2.  0. 11.  8.  0.  0.  4. 12.  0.  0.  8.  8.  0.  0.  5.  8.  0.\n",
            "  0.  9.  8.  0.  0.  4. 11.  0.  1. 12.  7.  0.  0.  2. 14.  5. 10. 12.\n",
            "  0.  0.  0.  0.  6. 13. 10.  0.  0.  0.]\n",
            "0\n"
          ],
          "name": "stdout"
        }
      ]
    },
    {
      "cell_type": "markdown",
      "metadata": {
        "id": "3ZVTWIuHfxu0"
      },
      "source": [
        "To get a more intuitive view of the datapoint, reshape the array to be 8x8."
      ]
    },
    {
      "cell_type": "code",
      "metadata": {
        "colab": {
          "base_uri": "https://localhost:8080/"
        },
        "id": "susUmdzVe00w",
        "outputId": "f4b21f13-43d8-447a-b524-4a45ae18e874"
      },
      "source": [
        "print(X[0].reshape(8, 8))"
      ],
      "execution_count": 3,
      "outputs": [
        {
          "output_type": "stream",
          "text": [
            "[[ 0.  0.  5. 13.  9.  1.  0.  0.]\n",
            " [ 0.  0. 13. 15. 10. 15.  5.  0.]\n",
            " [ 0.  3. 15.  2.  0. 11.  8.  0.]\n",
            " [ 0.  4. 12.  0.  0.  8.  8.  0.]\n",
            " [ 0.  5.  8.  0.  0.  9.  8.  0.]\n",
            " [ 0.  4. 11.  0.  1. 12.  7.  0.]\n",
            " [ 0.  2. 14.  5. 10. 12.  0.  0.]\n",
            " [ 0.  0.  6. 13. 10.  0.  0.  0.]]\n"
          ],
          "name": "stdout"
        }
      ]
    },
    {
      "cell_type": "markdown",
      "metadata": {
        "id": "xyVu9Q7fgrQE"
      },
      "source": [
        "### Visualize the image"
      ]
    },
    {
      "cell_type": "code",
      "metadata": {
        "colab": {
          "base_uri": "https://localhost:8080/",
          "height": 261
        },
        "id": "bx3sEDExf1fK",
        "outputId": "9526596d-79c9-4a20-e7c6-f4fa1b2104b8"
      },
      "source": [
        "import matplotlib.pyplot as plt\n",
        "\n",
        "plt.matshow(X[0].reshape(8, 8), cmap=plt.cm.gray)\n",
        "\n",
        "plt.xticks(())  # remove x tick marks\n",
        "plt.yticks(())  # remove y tick marks\n",
        "\n",
        "plt.show()"
      ],
      "execution_count": 4,
      "outputs": [
        {
          "output_type": "display_data",
          "data": {
            "image/png": "[encoded data removed]",
            "text/plain": [
              "<Figure size 288x288 with 1 Axes>"
            ]
          },
          "metadata": {
            "tags": []
          }
        }
      ]
    },
    {
      "cell_type": "markdown",
      "metadata": {
        "id": "kddtbazxhoTo"
      },
      "source": [
        "### Build a model"
      ]
    },
    {
      "cell_type": "code",
      "metadata": {
        "colab": {
          "base_uri": "https://localhost:8080/"
        },
        "id": "MAQMaR6nhn8t",
        "outputId": "3abeedae-1564-4d3f-c4ee-27d14b688dd2"
      },
      "source": [
        "from sklearn.neural_network import MLPClassifier\n",
        "from sklearn.model_selection import train_test_split\n",
        "\n",
        "X_train, X_test, y_train, y_test = train_test_split(X, y, random_state=2)\n",
        "\n",
        "mlp = MLPClassifier()\n",
        "\n",
        "mlp.fit(X_train, y_train)"
      ],
      "execution_count": 6,
      "outputs": [
        {
          "output_type": "execute_result",
          "data": {
            "text/plain": [
              "MLPClassifier(activation='relu', alpha=0.0001, batch_size='auto', beta_1=0.9,\n",
              "              beta_2=0.999, early_stopping=False, epsilon=1e-08,\n",
              "              hidden_layer_sizes=(100,), learning_rate='constant',\n",
              "              learning_rate_init=0.001, max_fun=15000, max_iter=200,\n",
              "              momentum=0.9, n_iter_no_change=10, nesterovs_momentum=True,\n",
              "              power_t=0.5, random_state=None, shuffle=True, solver='adam',\n",
              "              tol=0.0001, validation_fraction=0.1, verbose=False,\n",
              "              warm_start=False)"
            ]
          },
          "metadata": {
            "tags": []
          },
          "execution_count": 6
        }
      ]
    },
    {
      "cell_type": "markdown",
      "metadata": {
        "id": "t_4Fc4JZiaAh"
      },
      "source": [
        "Let’s look at how the model predicts the first datapoint in the test set."
      ]
    },
    {
      "cell_type": "code",
      "metadata": {
        "colab": {
          "base_uri": "https://localhost:8080/",
          "height": 292
        },
        "id": "uq5CnRHDiNpT",
        "outputId": "16f1bf38-331d-4103-8ad8-e67bed703029"
      },
      "source": [
        "x = X_test[0]\n",
        "\n",
        "plt.matshow(x.reshape(8, 8), cmap=plt.cm.gray)\n",
        "\n",
        "#plt.xticks(())\n",
        "plt.yticks(())\n",
        "\n",
        "plt.show()\n",
        "\n",
        "print(mlp.predict([x]))"
      ],
      "execution_count": 8,
      "outputs": [
        {
          "output_type": "display_data",
          "data": {
            "image/png": "[encoded data removed]",
            "text/plain": [
              "<Figure size 288x288 with 1 Axes>"
            ]
          },
          "metadata": {
            "tags": [],
            "needs_background": "light"
          }
        },
        {
          "output_type": "stream",
          "text": [
            "[0]\n"
          ],
          "name": "stdout"
        }
      ]
    },
    {
      "cell_type": "code",
      "metadata": {
        "colab": {
          "base_uri": "https://localhost:8080/",
          "height": 278
        },
        "id": "gmMVeagbikKN",
        "outputId": "fab1e793-7828-4458-fdca-5643923e12ad"
      },
      "source": [
        "x = X_test[1]\n",
        "\n",
        "plt.matshow(x.reshape(8, 8), cmap=plt.cm.gray)\n",
        "\n",
        "plt.xticks(())\n",
        "plt.yticks(())\n",
        "\n",
        "plt.show()\n",
        "\n",
        "print(mlp.predict([x]))"
      ],
      "execution_count": 9,
      "outputs": [
        {
          "output_type": "display_data",
          "data": {
            "image/png": "[encoded data removed]",
            "text/plain": [
              "<Figure size 288x288 with 1 Axes>"
            ]
          },
          "metadata": {
            "tags": []
          }
        },
        {
          "output_type": "stream",
          "text": [
            "[1]\n"
          ],
          "name": "stdout"
        }
      ]
    },
    {
      "cell_type": "code",
      "metadata": {
        "colab": {
          "base_uri": "https://localhost:8080/"
        },
        "id": "bEZmX0cbiz12",
        "outputId": "62343a94-967d-4008-9374-82c87df795b3"
      },
      "source": [
        "print(\"Accuracy:\", mlp.score(X_test, y_test))"
      ],
      "execution_count": 10,
      "outputs": [
        {
          "output_type": "stream",
          "text": [
            "Accuracy: 1.0\n"
          ],
          "name": "stdout"
        }
      ]
    },
    {
      "cell_type": "code",
      "metadata": {
        "id": "Ng2d1WpljBkw"
      },
      "source": [
        ""
      ],
      "execution_count": null,
      "outputs": []
    },
    {
      "cell_type": "markdown",
      "metadata": {
        "id": "otG6s-Ftjl0H"
      },
      "source": [
        "## Model for 10 digits"
      ]
    },
    {
      "cell_type": "code",
      "metadata": {
        "colab": {
          "base_uri": "https://localhost:8080/"
        },
        "id": "0M87-CYgjpW2",
        "outputId": "802a448b-e4a0-43ef-fac9-e51de4742ed5"
      },
      "source": [
        "X, y = load_digits(return_X_y=True)\n",
        "\n",
        "X_train, X_test, y_train, y_test = train_test_split(X, y, random_state=2)\n",
        "\n",
        "mlp = MLPClassifier(random_state=2)\n",
        "mlp.fit(X_train, y_train)\n",
        "\n",
        "print(\"Accuracy:\",mlp.score(X_test, y_test))"
      ],
      "execution_count": 12,
      "outputs": [
        {
          "output_type": "stream",
          "text": [
            "Accuracy: 0.96\n"
          ],
          "name": "stdout"
        }
      ]
    },
    {
      "cell_type": "markdown",
      "metadata": {
        "id": "hN4X2R4Sj-MA"
      },
      "source": [
        "Let’s look at the ones we got incorrect. \n",
        "\n",
        "We use a numpy mask to pull out just the datapoints we got incorrect. We pull the x values, the true y value as well as the predicted value."
      ]
    },
    {
      "cell_type": "code",
      "metadata": {
        "colab": {
          "base_uri": "https://localhost:8080/"
        },
        "id": "h7b0Zc9Wjzx-",
        "outputId": "51d4bafd-dd99-4a53-c917-9ea9f59ec961"
      },
      "source": [
        "y_pred = mlp.predict(X_test)\n",
        "\n",
        "incorrect = X_test[y_pred != y_test]\n",
        "incorrect_true = y_test[y_pred != y_test]\n",
        "incorrect_pred = y_pred[y_pred != y_test] \n",
        "incorrect"
      ],
      "execution_count": 14,
      "outputs": [
        {
          "output_type": "execute_result",
          "data": {
            "text/plain": [
              "array([[ 0.,  0., 11., ...,  0.,  0.,  0.],\n",
              "       [ 0.,  0., 10., ...,  0.,  0.,  0.],\n",
              "       [ 0.,  0.,  0., ...,  0.,  0.,  0.],\n",
              "       ...,\n",
              "       [ 0.,  0.,  3., ..., 16., 16.,  3.],\n",
              "       [ 0.,  0.,  2., ...,  3.,  0.,  0.],\n",
              "       [ 0.,  1.,  7., ...,  6.,  0.,  0.]])"
            ]
          },
          "metadata": {
            "tags": []
          },
          "execution_count": 14
        }
      ]
    },
    {
      "cell_type": "code",
      "metadata": {
        "colab": {
          "base_uri": "https://localhost:8080/"
        },
        "id": "qhyIltJOlUcs",
        "outputId": "f62e6c96-f636-40cb-9750-5317509f1745"
      },
      "source": [
        "print(len(incorrect))"
      ],
      "execution_count": 17,
      "outputs": [
        {
          "output_type": "stream",
          "text": [
            "18\n"
          ],
          "name": "stdout"
        }
      ]
    },
    {
      "cell_type": "code",
      "metadata": {
        "colab": {
          "base_uri": "https://localhost:8080/",
          "height": 853
        },
        "id": "nAUGwvQ6ku4Q",
        "outputId": "e3392aef-c8ee-40a2-d9ed-5aa0e8d43938"
      },
      "source": [
        "for j in range(3):\n",
        "  plt.matshow(incorrect[j].reshape(8, 8), cmap=plt.cm.gray)\n",
        "  \n",
        "  plt.xticks(())\n",
        "  plt.yticks(())\n",
        "  plt.show()\n",
        "  print(\"true value:\", incorrect_true[j])\n",
        "  print(\"predicted value:\", incorrect_pred[j])"
      ],
      "execution_count": 20,
      "outputs": [
        {
          "output_type": "display_data",
          "data": {
            "image/png": "[encoded data removed]",
            "text/plain": [
              "<Figure size 288x288 with 1 Axes>"
            ]
          },
          "metadata": {
            "tags": []
          }
        },
        {
          "output_type": "stream",
          "text": [
            "true value: 4\n",
            "predicted value: 9\n"
          ],
          "name": "stdout"
        },
        {
          "output_type": "display_data",
          "data": {
            "image/png": "[encoded data removed]",
            "text/plain": [
              "<Figure size 288x288 with 1 Axes>"
            ]
          },
          "metadata": {
            "tags": []
          }
        },
        {
          "output_type": "stream",
          "text": [
            "true value: 4\n",
            "predicted value: 8\n"
          ],
          "name": "stdout"
        },
        {
          "output_type": "display_data",
          "data": {
            "image/png": "[encoded data removed]",
            "text/plain": [
              "<Figure size 288x288 with 1 Axes>"
            ]
          },
          "metadata": {
            "tags": []
          }
        },
        {
          "output_type": "stream",
          "text": [
            "true value: 6\n",
            "predicted value: 8\n"
          ],
          "name": "stdout"
        }
      ]
    },
    {
      "cell_type": "code",
      "metadata": {
        "id": "wnZLQ_Whk7pZ"
      },
      "source": [
        ""
      ],
      "execution_count": null,
      "outputs": []
    }
  ]
}