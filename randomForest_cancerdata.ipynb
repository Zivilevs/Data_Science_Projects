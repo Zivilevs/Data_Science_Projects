{
  "nbformat": 4,
  "nbformat_minor": 0,
  "metadata": {
    "colab": {
      "name": "randomForest_cancerdata.ipynb",
      "provenance": [],
      "authorship_tag": "ABX9TyNOEHL16JtJhhGe7RzoENF0",
      "include_colab_link": true
    },
    "kernelspec": {
      "name": "python3",
      "display_name": "Python 3"
    }
  },
  "cells": [
    {
      "cell_type": "markdown",
      "metadata": {
        "id": "view-in-github",
        "colab_type": "text"
      },
      "source": [
        "<a href=\"https://colab.research.google.com/github/Zivilevs/Data_Science_Projects/blob/main/randomForest_cancerdata.ipynb\" target=\"_parent\"><img src=\"https://colab.research.google.com/assets/colab-badge.svg\" alt=\"Open In Colab\"/></a>"
      ]
    },
    {
      "cell_type": "markdown",
      "metadata": {
        "id": "CmrqzuB-1tYb"
      },
      "source": [
        "# Random Forest classification\n",
        "\n",
        "Breast cancer dataset"
      ]
    },
    {
      "cell_type": "code",
      "metadata": {
        "id": "11mc8rIN1p9T"
      },
      "source": [
        "import pandas as pd\n",
        "from sklearn.datasets import load_breast_cancer"
      ],
      "execution_count": 1,
      "outputs": []
    },
    {
      "cell_type": "code",
      "metadata": {
        "id": "lIZ5UWUG19Gz"
      },
      "source": [
        "cancer_data = load_breast_cancer()\n",
        "df = pd.DataFrame(cancer_data['data'], columns=cancer_data['feature_names'])\n",
        "df['target'] = cancer_data['target']\n"
      ],
      "execution_count": 2,
      "outputs": []
    },
    {
      "cell_type": "code",
      "metadata": {
        "id": "eK8Sr9wx1_D9"
      },
      "source": [
        "\n",
        "X = df[cancer_data.feature_names].values\n",
        "y = df['target'].values"
      ],
      "execution_count": 3,
      "outputs": []
    },
    {
      "cell_type": "code",
      "metadata": {
        "colab": {
          "base_uri": "https://localhost:8080/"
        },
        "id": "zFNw0B962Cpb",
        "outputId": "570a69e5-6755-4161-9a76-b7f499089e85"
      },
      "source": [
        "print('data dimensions', X.shape)"
      ],
      "execution_count": 4,
      "outputs": [
        {
          "output_type": "stream",
          "text": [
            "data dimensions (569, 30)\n"
          ],
          "name": "stdout"
        }
      ]
    },
    {
      "cell_type": "markdown",
      "metadata": {
        "id": "Cs8J1y9c2XGm"
      },
      "source": [
        "## Build Model"
      ]
    },
    {
      "cell_type": "code",
      "metadata": {
        "id": "Ue4NyIlC2Ezr"
      },
      "source": [
        "from sklearn.ensemble import RandomForestClassifier"
      ],
      "execution_count": 5,
      "outputs": []
    },
    {
      "cell_type": "code",
      "metadata": {
        "id": "WJ2m7kph2ZPo"
      },
      "source": [
        "from sklearn.model_selection import train_test_split\n",
        "\n",
        "X_train, X_test, y_train, y_test = train_test_split(X, y, random_state=101)  # test_size default is 0.25"
      ],
      "execution_count": 7,
      "outputs": []
    },
    {
      "cell_type": "code",
      "metadata": {
        "colab": {
          "base_uri": "https://localhost:8080/"
        },
        "id": "-6gYP6ha2hQt",
        "outputId": "45b363a5-be36-4375-eeef-858982687162"
      },
      "source": [
        "rf = RandomForestClassifier()\n",
        "\n",
        "rf.fit(X_train, y_train)"
      ],
      "execution_count": 8,
      "outputs": [
        {
          "output_type": "execute_result",
          "data": {
            "text/plain": [
              "RandomForestClassifier(bootstrap=True, ccp_alpha=0.0, class_weight=None,\n",
              "                       criterion='gini', max_depth=None, max_features='auto',\n",
              "                       max_leaf_nodes=None, max_samples=None,\n",
              "                       min_impurity_decrease=0.0, min_impurity_split=None,\n",
              "                       min_samples_leaf=1, min_samples_split=2,\n",
              "                       min_weight_fraction_leaf=0.0, n_estimators=100,\n",
              "                       n_jobs=None, oob_score=False, random_state=None,\n",
              "                       verbose=0, warm_start=False)"
            ]
          },
          "metadata": {
            "tags": []
          },
          "execution_count": 8
        }
      ]
    },
    {
      "cell_type": "code",
      "metadata": {
        "colab": {
          "base_uri": "https://localhost:8080/"
        },
        "id": "bmyC2JXu20Hh",
        "outputId": "38cefd1d-b43e-4cdd-dd46-d5b286698577"
      },
      "source": [
        "print(\"random forest accuracy:\", rf.score(X_test, y_test))"
      ],
      "execution_count": 9,
      "outputs": [
        {
          "output_type": "stream",
          "text": [
            "random forest accuracy: 0.958041958041958\n"
          ],
          "name": "stdout"
        }
      ]
    },
    {
      "cell_type": "markdown",
      "metadata": {
        "id": "G60uj9lh3cpi"
      },
      "source": [
        "Let's compare with Decision Tree"
      ]
    },
    {
      "cell_type": "code",
      "metadata": {
        "colab": {
          "base_uri": "https://localhost:8080/"
        },
        "id": "qj93q1t63Mh6",
        "outputId": "b6f432fe-80f8-4842-c86b-03223287cf30"
      },
      "source": [
        "from sklearn.tree import DecisionTreeClassifier\n",
        "\n",
        "dt = DecisionTreeClassifier()\n",
        "dt.fit(X_train, y_train)\n",
        "print(\"decision tree accuracy:\", dt.score(X_test, y_test))"
      ],
      "execution_count": 11,
      "outputs": [
        {
          "output_type": "stream",
          "text": [
            "decision tree accuracy: 0.9090909090909091\n"
          ],
          "name": "stdout"
        }
      ]
    },
    {
      "cell_type": "markdown",
      "metadata": {
        "id": "jJRypH3b5oNW"
      },
      "source": [
        "## Grid Search"
      ]
    },
    {
      "cell_type": "code",
      "metadata": {
        "id": "61HqQRag5xs0"
      },
      "source": [
        "from sklearn.model_selection import GridSearchCV"
      ],
      "execution_count": 14,
      "outputs": []
    },
    {
      "cell_type": "code",
      "metadata": {
        "id": "0ytRVL0l3pY_"
      },
      "source": [
        " param_grid = {\n",
        "    \n",
        "    'n_estimators': [10, 25, 50, 75, 100],\n",
        " }"
      ],
      "execution_count": 15,
      "outputs": []
    },
    {
      "cell_type": "code",
      "metadata": {
        "id": "GNxPcP6u5ssA"
      },
      "source": [
        "rf = RandomForestClassifier()\n",
        "\n",
        "gs = GridSearchCV(rf, param_grid, cv=5)"
      ],
      "execution_count": 16,
      "outputs": []
    },
    {
      "cell_type": "code",
      "metadata": {
        "colab": {
          "base_uri": "https://localhost:8080/"
        },
        "id": "ukfxf2wW5wC8",
        "outputId": "8e200b64-b4ae-4b0c-cc3b-0d1935ba7959"
      },
      "source": [
        "gs.fit(X,y)\n",
        "print(\"Best parameters:\", gs.best_params_)\n",
        "print(\"Best score:\", gs.best_score_)"
      ],
      "execution_count": 18,
      "outputs": [
        {
          "output_type": "stream",
          "text": [
            "Best parameters: {'n_estimators': 75}\n",
            "Best score: 0.9631268436578171\n"
          ],
          "name": "stdout"
        }
      ]
    },
    {
      "cell_type": "markdown",
      "metadata": {
        "id": "u9Zw_Tt46Wzx"
      },
      "source": [
        "Accuracy will work okay in this case as the classes in the breast cancer dataset are **reasonably balanced**. If the classes are imbalanced, we would want to use an alternative metric, like the f1-score."
      ]
    },
    {
      "cell_type": "markdown",
      "metadata": {
        "id": "w7NlCiuG7J4U"
      },
      "source": [
        "## Elbow Graph\n",
        "\n",
        "We can use an Elbow Graph to find the sweet spot between the gain in model performance and unnecessary algorithm complexity. "
      ]
    },
    {
      "cell_type": "code",
      "metadata": {
        "colab": {
          "base_uri": "https://localhost:8080/"
        },
        "id": "J6wzsQUA6Lpw",
        "outputId": "fbbac0d4-fd66-4f6c-c581-406cb25762f0"
      },
      "source": [
        "n_estimators = list(range(1, 101))\n",
        "\n",
        "param_grid = {'n_estimators': n_estimators}\n",
        "\n",
        "rf = RandomForestClassifier()\n",
        "\n",
        "gs = GridSearchCV(rf, param_grid, cv=5)\n",
        "\n",
        "gs.fit(X, y)"
      ],
      "execution_count": 19,
      "outputs": [
        {
          "output_type": "execute_result",
          "data": {
            "text/plain": [
              "GridSearchCV(cv=5, error_score=nan,\n",
              "             estimator=RandomForestClassifier(bootstrap=True, ccp_alpha=0.0,\n",
              "                                              class_weight=None,\n",
              "                                              criterion='gini', max_depth=None,\n",
              "                                              max_features='auto',\n",
              "                                              max_leaf_nodes=None,\n",
              "                                              max_samples=None,\n",
              "                                              min_impurity_decrease=0.0,\n",
              "                                              min_impurity_split=None,\n",
              "                                              min_samples_leaf=1,\n",
              "                                              min_samples_split=2,\n",
              "                                              min_weight_fraction_leaf=0.0,\n",
              "                                              n_estimators=100, n_jobs=None,\n",
              "                                              oob_score=False,\n",
              "                                              random_state=None, verbose=0,\n",
              "                                              warm_start=False),\n",
              "             iid='deprecated', n_jobs=None,\n",
              "             param_grid={'n_estimators': [1, 2, 3, 4, 5, 6, 7, 8, 9, 10, 11, 12,\n",
              "                                          13, 14, 15, 16, 17, 18, 19, 20, 21,\n",
              "                                          22, 23, 24, 25, 26, 27, 28, 29, 30, ...]},\n",
              "             pre_dispatch='2*n_jobs', refit=True, return_train_score=False,\n",
              "             scoring=None, verbose=0)"
            ]
          },
          "metadata": {
            "tags": []
          },
          "execution_count": 19
        }
      ]
    },
    {
      "cell_type": "code",
      "metadata": {
        "id": "E57bv2xz7wDE"
      },
      "source": [
        "# to access the search results \n",
        "scores = gs.cv_results_['mean_test_score']\n"
      ],
      "execution_count": 20,
      "outputs": []
    },
    {
      "cell_type": "markdown",
      "metadata": {
        "id": "qL1twiYY8KuZ"
      },
      "source": [
        "Now let’s use matplotlib to graph the results."
      ]
    },
    {
      "cell_type": "code",
      "metadata": {
        "colab": {
          "base_uri": "https://localhost:8080/",
          "height": 284
        },
        "id": "C7pVCUfE8ElF",
        "outputId": "693b7550-780c-45b1-d838-a1c50cd83a66"
      },
      "source": [
        "import matplotlib.pyplot as plt\n",
        "\n",
        "plt.figure(figsize=(8,4))\n",
        "plt.plot(n_estimators, scores)\n",
        "\n",
        "plt.xlabel(\"n_estimators\")\n",
        "plt.ylabel(\"accuracy\")\n",
        "\n",
        "plt.xlim(0, 100)\n",
        "plt.ylim(0.9, 1)\n",
        "\n",
        "plt.show()\n",
        "print"
      ],
      "execution_count": 24,
      "outputs": [
        {
          "output_type": "display_data",
          "data": {
            "image/png": "[encoded data removed]",
            "text/plain": [
              "<Figure size 576x288 with 1 Axes>"
            ]
          },
          "metadata": {
            "tags": [],
            "needs_background": "light"
          }
        }
      ]
    },
    {
      "cell_type": "markdown",
      "metadata": {
        "id": "mGHZAXMF8qYW"
      },
      "source": [
        "If we look at this graph, we see that around 10 trees the graph levels out. The best model occurred at n_estimators=37 and n_estimators=59, but given how volatile it is, that was probably due to random chance. \n",
        "\n",
        "We should choose about 10 to be our number of estimators, because we want the minimum number of estimators that still yield maximum performance."
      ]
    },
    {
      "cell_type": "markdown",
      "metadata": {
        "id": "M9hY1WVIGk4K"
      },
      "source": [
        "## Feature importance"
      ]
    },
    {
      "cell_type": "code",
      "metadata": {
        "colab": {
          "base_uri": "https://localhost:8080/"
        },
        "id": "QQdyr8LY8WSu",
        "outputId": "27b522c9-4b86-4e18-e839-0b0d941b5c12"
      },
      "source": [
        "rf = RandomForestClassifier(n_estimators=10, random_state=111)\n",
        "rf.fit(X_train, y_train)\n",
        "\n",
        "# Scikit-learn provides a feature_importances_ variable with the model.\n",
        "\n",
        "ft_imp = pd.Series(rf.feature_importances_, index=cancer_data.feature_names).sort_values(ascending=False)\n",
        "\n",
        "print(ft_imp.head(10))"
      ],
      "execution_count": 31,
      "outputs": [
        {
          "output_type": "stream",
          "text": [
            "worst radius            0.309701\n",
            "mean concave points     0.183126\n",
            "worst concave points    0.115641\n",
            "mean perimeter          0.064119\n",
            "mean radius             0.058742\n",
            "worst concavity         0.050951\n",
            "radius error            0.049103\n",
            "mean texture            0.017197\n",
            "worst area              0.016512\n",
            "mean concavity          0.014696\n",
            "dtype: float64\n"
          ],
          "name": "stdout"
        }
      ]
    },
    {
      "cell_type": "markdown",
      "metadata": {
        "id": "UX1LgncrjeZx"
      },
      "source": [
        "## Model with feature selection"
      ]
    },
    {
      "cell_type": "code",
      "metadata": {
        "colab": {
          "base_uri": "https://localhost:8080/"
        },
        "id": "hxXjKoJqHDIR",
        "outputId": "9bfb0346-4713-4be5-a49a-603c8489ad53"
      },
      "source": [
        "ft_top10 = ft_imp.head(10)\n",
        "top_col = ft_top10.keys()\n",
        "top_col"
      ],
      "execution_count": 44,
      "outputs": [
        {
          "output_type": "execute_result",
          "data": {
            "text/plain": [
              "Index(['worst radius', 'mean concave points', 'worst concave points',\n",
              "       'mean perimeter', 'mean radius', 'worst concavity', 'radius error',\n",
              "       'mean texture', 'worst area', 'mean concavity'],\n",
              "      dtype='object')"
            ]
          },
          "metadata": {
            "tags": []
          },
          "execution_count": 44
        }
      ]
    },
    {
      "cell_type": "code",
      "metadata": {
        "id": "EItkC8D2kENs"
      },
      "source": [
        "X_fs = df[top_col].values"
      ],
      "execution_count": 45,
      "outputs": []
    },
    {
      "cell_type": "code",
      "metadata": {
        "id": "qUDHEQyQl8jv"
      },
      "source": [
        "from sklearn.model_selection import train_test_split\n",
        "\n",
        "X_train, X_test, y_train, y_test = train_test_split(X_fs, y, random_state=101)  # test_size default is 0.25"
      ],
      "execution_count": 47,
      "outputs": []
    },
    {
      "cell_type": "code",
      "metadata": {
        "colab": {
          "base_uri": "https://localhost:8080/"
        },
        "id": "UKrhAFSwmd2i",
        "outputId": "cfd1cdf5-c611-48f6-82db-75f832595e1e"
      },
      "source": [
        "rf = RandomForestClassifier(n_estimators=10, random_state=101)\n",
        "rf.fit(X_train, y_train)\n",
        "print(\"decision tree accuracy:\", rf.score(X_test, y_test))"
      ],
      "execution_count": 48,
      "outputs": [
        {
          "output_type": "stream",
          "text": [
            "decision tree accuracy: 0.972027972027972\n"
          ],
          "name": "stdout"
        }
      ]
    },
    {
      "cell_type": "code",
      "metadata": {
        "id": "blFIVC1-mvKH"
      },
      "source": [
        ""
      ],
      "execution_count": null,
      "outputs": []
    }
  ]
}